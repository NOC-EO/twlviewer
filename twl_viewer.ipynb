{
 "cells": [
  {
   "cell_type": "markdown",
   "id": "0d626cf9",
   "metadata": {},
   "source": [
    "# view TWL results in three simple steps\n",
    "## (1) import required python packages"
   ]
  },
  {
   "cell_type": "code",
   "execution_count": null,
   "id": "51d8c6d4",
   "metadata": {},
   "outputs": [],
   "source": [
    "import os\n",
    "import xarray as xr\n",
    "import hvplot.xarray"
   ]
  },
  {
   "cell_type": "markdown",
   "id": "7b19b8ca",
   "metadata": {},
   "source": [
    "## (2) specify the full path to the netCDF file containing the TWL dataset  and open as an xarray DataSet\n",
    "### (if you would like to see xarray DatsSet contents un-comment the last line)"
   ]
  },
  {
   "cell_type": "code",
   "execution_count": null,
   "id": "6c4eee4d",
   "metadata": {},
   "outputs": [],
   "source": [
    "# on my local machine I have unzipped the GitHub repo into 'c:\\code' directory\n",
    "# you will need to edit the paths in the bext three lines to point to\n",
    "# where you unzipped the test datsets on your local machine\n",
    "\n",
    "towy_data ='D:\\\\sartwl\\\\uk\\\\624\\\\rolling_10\\\\624_TWL_Apr2017_Jun2022_Z5_10PMNVV1.nc'\n",
    "GY_data ='D:\\\\sartwl\\\\uk\\\\1521\\\\rolling_10\\\\G1521_TWL_Jul2018_Jun2022_Z5_10PMNVV1.nc'\n",
    "portsmouth_data = 'C:\\\\code\\\\twlviewer-1.0\\\\data\\\\Portsmouth_TWL_Apr2016_Sep2021_Z5_r1TLYVV1.nc'\n",
    "morecambe_data = 'C:\\\\code\\\\twlviewer-1.0\\\\data\\\\Morecambe_TWL_Apr2017_Jun2022_Z5_25PMNVV1.nc'\n",
    "wash_data = 'C:\\\\code\\\\twlviewer-1.0\\\\data\\\\Wash_TWL_Apr2017_Jun2022_Z10_10PMNVV1.nc'\n",
    "\n",
    "## select one of the example datasets\n",
    "selected_data = GY_data\n",
    "\n",
    "if os.path.isfile(selected_data):\n",
    "    twl_ds = xr.open_dataset(selected_data, engine='netcdf4')\n",
    "else:\n",
    "    print(f'please check file path: {selected_data}')    \n",
    "twl_ds"
   ]
  },
  {
   "cell_type": "markdown",
   "id": "8d91593c",
   "metadata": {},
   "source": [
    "## (3) run the viewer\n",
    "### (more advanced users may want to adjust the colour map)"
   ]
  },
  {
   "cell_type": "code",
   "execution_count": null,
   "id": "b19dc034",
   "metadata": {},
   "outputs": [],
   "source": [
    "twl_ds.TWL_elevation.hvplot(groupby=\"date\", width=800, height=500, \n",
    "              widget_type='scrubber', widget_location='bottom', cmap='jet')"
   ]
  },
  {
   "cell_type": "code",
   "execution_count": null,
   "id": "001cdbbe",
   "metadata": {},
   "outputs": [],
   "source": []
  }
 ],
 "metadata": {
  "kernelspec": {
   "display_name": "sartwl",
   "language": "python",
   "name": "sartwl"
  },
  "language_info": {
   "codemirror_mode": {
    "name": "ipython",
    "version": 3
   },
   "file_extension": ".py",
   "mimetype": "text/x-python",
   "name": "python",
   "nbconvert_exporter": "python",
   "pygments_lexer": "ipython3",
   "version": "3.9.13"
  }
 },
 "nbformat": 4,
 "nbformat_minor": 5
}
