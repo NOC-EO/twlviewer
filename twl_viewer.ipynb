{
 "cells": [
  {
   "cell_type": "code",
   "execution_count": null,
   "id": "51d8c6d4",
   "metadata": {},
   "outputs": [],
   "source": [
    "import xarray as xr\n",
    "import hvplot.xarray"
   ]
  },
  {
   "cell_type": "markdown",
   "id": "7b19b8ca",
   "metadata": {},
   "source": [
    "## specify the full path to the netCDF file conatining the TWL dataset  and open as an xarray DataSet\n",
    "\n",
    "### (if you would like to see xarray DatsSet contents un-comment the last line)"
   ]
  },
  {
   "cell_type": "code",
   "execution_count": null,
   "id": "6c4eee4d",
   "metadata": {},
   "outputs": [],
   "source": [
    "data_portsmouth = 'C:\\\\code\\\\twlviewer\\\\data\\\\Portsmouth_TWL_Apr2016_Sep2021_Z5_r1TLYVV1.nc'\n",
    "data_morecambe = 'C:\\\\code\\\\twlviewer\\\\data\\\\Morecambe_TWL_Apr2017_Jun2022_Z5_25PMNVV1.nc'\n",
    "data_wash = 'C:\\\\code\\\\twlviewer\\\\data\\\\Wash_TWL_Apr2017_Jun2022_Z5_10PMNVV1.nc'\n",
    "\n",
    "## select one of the example datasets here\n",
    "twl_ds = xr.open_dataset(data_wash)\n",
    "#twl_ds"
   ]
  },
  {
   "cell_type": "markdown",
   "id": "8d91593c",
   "metadata": {},
   "source": [
    "## run the viewer"
   ]
  },
  {
   "cell_type": "code",
   "execution_count": null,
   "id": "b19dc034",
   "metadata": {},
   "outputs": [],
   "source": [
    "twl_ds.data_vars['TWL_elevation'].hvplot(groupby=\"date\", width=800, height=500, \n",
    "              widget_type='scrubber', widget_location='bottom', cmap='jet')"
   ]
  }
 ],
 "metadata": {
  "kernelspec": {
   "display_name": "sartwl",
   "language": "python",
   "name": "sartwl"
  },
  "language_info": {
   "codemirror_mode": {
    "name": "ipython",
    "version": 3
   },
   "file_extension": ".py",
   "mimetype": "text/x-python",
   "name": "python",
   "nbconvert_exporter": "python",
   "pygments_lexer": "ipython3",
   "version": "3.9.13"
  }
 },
 "nbformat": 4,
 "nbformat_minor": 5
}
